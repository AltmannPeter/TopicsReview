{
  "nbformat": 4,
  "nbformat_minor": 0,
  "metadata": {
    "colab": {
      "provenance": [],
      "authorship_tag": "ABX9TyPw5+4TkfZVheSO9zKU4Dkb",
      "include_colab_link": true
    },
    "kernelspec": {
      "name": "python3",
      "display_name": "Python 3"
    },
    "language_info": {
      "name": "python"
    }
  },
  "cells": [
    {
      "cell_type": "markdown",
      "metadata": {
        "id": "view-in-github",
        "colab_type": "text"
      },
      "source": [
        "<a href=\"https://colab.research.google.com/github/AltmannPeter/TopicsReview/blob/main/Topic_K_Appendices.ipynb\" target=\"_parent\"><img src=\"https://colab.research.google.com/assets/colab-badge.svg\" alt=\"Open In Colab\"/></a>"
      ]
    },
    {
      "cell_type": "markdown",
      "source": [
        "# Topic K - Appendices"
      ],
      "metadata": {
        "id": "rFTtCOtjAnaQ"
      }
    },
    {
      "cell_type": "markdown",
      "source": [
        "## Appendix A: A third party repudiable ZKP-based PoA"
      ],
      "metadata": {
        "id": "JqEwwotEAo-8"
      }
    },
    {
      "cell_type": "code",
      "source": [
        "%%capture\n",
        "!pip install ecpy\n",
        "import secrets\n",
        "from ecpy.curves    import Curve, Point"
      ],
      "metadata": {
        "id": "jOvYDQzZB0S8"
      },
      "execution_count": 1,
      "outputs": []
    },
    {
      "cell_type": "markdown",
      "source": [
        "An EC setup requires a curve and two generators, $(G, H)$. $G$, is the curve's standard generator, while security requires $H$ to be chosen using a publicly verifiable random process. We need to ensure each Issuer generates a distinct generator and eliminate as many attack vectors as possible.\n",
        "\n",
        "One illustrative solution is a KEM-seeded Hash-to-Curve ([RFC 9180](https://www.rfc-editor.org/rfc/rfc9180.html) with [RFC 9380](https://www.rfc-editor.org/rfc/rfc9380.html)). The KEM part ensures Issuer distinct generators, while Hash-to-Curve outputs a generator with unknown scalar.\n",
        "\n",
        "Here, we just pick $H$ at random."
      ],
      "metadata": {
        "id": "l191vdQO2DC1"
      }
    },
    {
      "cell_type": "code",
      "source": [
        "# The curves\n",
        "crv = Curve.get_curve(\"secp256r1\")\n",
        "order = crv.order\n",
        "G  = crv.generator\n",
        "\n",
        "# 1st blind generator\n",
        "H_1 = secrets.randbelow(order) * G\n",
        "\n",
        "# 2nd blind generator\n",
        "H_2 = secrets.randbelow(order) * G"
      ],
      "metadata": {
        "id": "oett8DA4S64z"
      },
      "execution_count": 2,
      "outputs": []
    },
    {
      "cell_type": "markdown",
      "source": [
        "The PID issuer includes a unique random value, `poa_seed`, in the PID attestation. Note that this value is **NOT** intended to act as a unique identifier for the User, but as a PoA input."
      ],
      "metadata": {
        "id": "LTk6mBRw6Z3M"
      }
    },
    {
      "cell_type": "code",
      "execution_count": 3,
      "metadata": {
        "id": "hNaHNTZe-yj8"
      },
      "outputs": [],
      "source": [
        "# The PID issuer includes a PoA seed in the attestation\n",
        "poa_seed = secrets.randbelow(order)"
      ]
    },
    {
      "cell_type": "markdown",
      "source": [
        "In the next step, two additional distinct Issuers rely on the poa_seed to generate a blinded version each, $H_1, H_2$. Note that only the User sees both blinded values at this step."
      ],
      "metadata": {
        "id": "vg4xUMr47KlD"
      }
    },
    {
      "cell_type": "code",
      "source": [
        "# Attestation Issuer 1\n",
        "blind_poa_input_1 = poa_seed * H_1\n",
        "\n",
        "#Attestation Issuer 2\n",
        "blind_poa_input_2 = poa_seed * H_2"
      ],
      "metadata": {
        "id": "AV2b5VohB8mq"
      },
      "execution_count": 4,
      "outputs": []
    },
    {
      "cell_type": "markdown",
      "source": [
        "The User can now reveal the two blinded PoA values to a Verifier. The Verifier will require the User to generate a PoA between $A$ and $B$.\n",
        "\n",
        "The User can generate a PoA proof using e.g., a PODLE like the Chaum-Pedersen protocol, which allows the User to prove that it knows two discrete logarithms $y_1 = h_1^r$ and $y_2 = h_2^r$ with respect to two distinct generators $h_1, h_2$.\n",
        "\n",
        "The Verifier accepts the proof of discrete log equivalence as a proof of association."
      ],
      "metadata": {
        "id": "wErRuC-b9CCu"
      }
    },
    {
      "cell_type": "code",
      "source": [
        "# User samples a random nonce\n",
        "r = secrets.randbelow(order)\n",
        "\n",
        "# The User shares two commitments with the Verifier\n",
        "P = r * H_1\n",
        "Q = r * H_2\n",
        "\n",
        "# A random challenge is produced either by the Verifier or using a random oracle.\n",
        "# Here we just sample from random\n",
        "# A repudiable proof requires Verifier picked c thus IZKP\n",
        "# A NIZKP with Fiat-Shamir is always third party non-repudiable\n",
        "c = secrets.randbits(256)\n",
        "\n",
        "# The user computes s\n",
        "s = r + c * poa_seed\n",
        "\n",
        "# The Verifier verifies the PODLE using challenge c, recieved values (s, P, Q), and blinded PoAs\n",
        "assert (s * H_1 == P + (blind_poa_input_1 * c))\n",
        "assert (s * H_2 == Q + (blind_poa_input_2 * c))"
      ],
      "metadata": {
        "id": "ArztJxG-9BCZ"
      },
      "execution_count": 5,
      "outputs": []
    },
    {
      "cell_type": "markdown",
      "source": [
        "The ZKP property means that there exists a simulator that can produce proofs indistinguishable from real ones even without knowledge of the secret. This is useful when a Proof of Association (PoA) needs to be repudiable. Works only with IZKP and not NIZKP (the latter does not permit the challenge to be selected before R).\n",
        "\n",
        "The **real proof**, given $Y = x \\cdot H_1$ and $Z = x \\cdot H_2$, where the Prover knows $x$ consists of:\n",
        "\n",
        "* Prover commitments: $P = r \\cdot H_1, Q = r \\cdot H_2$\n",
        "* A random challenge $c$\n",
        "* Prover computation: $s = r + c \\cdot x $\n",
        "\n",
        "The **simulated proof** is:\n",
        "\n",
        "* Pick $s$ at random\n",
        "* Compute $P = s \\cdot H_1 - c \\cdot Y, Q = s \\cdot H_2 - c \\cdot Z$\n",
        "\n",
        "The transcript is verified with:\n",
        "\n",
        "* $s \\cdot H_1 = P + c \\cdot Y$\n",
        "* $s \\cdot H_2 = Q + c \\cdot Z$\n",
        "\n",
        "Since the simulated transcript is computationally indistinguishable from a real one, a third party cannot determine whether the Prover actually participated. This enables repudiability of the PoA, meaning the Prover can plausibly deny involvement in the proof."
      ],
      "metadata": {
        "id": "tucwHtFvT0hJ"
      }
    },
    {
      "cell_type": "markdown",
      "source": [
        "## Appendix B: Simple PoA when WSCD supports arbitrary operations"
      ],
      "metadata": {
        "id": "Bz1FXkQAhAx9"
      }
    },
    {
      "cell_type": "markdown",
      "source": [
        "Alg 1-2 in Verheul presents a way to generate a PoA between two private keys protected by the same WSCD. Verheul's proposal builds on the assumption that the Prover \"has full control over both private keys\" and can \"do arbitrary mathematical operations with these.\" This is seemingly required because of the limitation to rely on a the curve specified generator $G$ only.\n",
        "\n",
        "One possible argument raised against Alg 1-2 is that they are overly complex given that the assumption is *full* control. A WSCD that has full control can simplify the PoA."
      ],
      "metadata": {
        "id": "syikHnUJhWv0"
      }
    },
    {
      "cell_type": "code",
      "source": [
        "# Using the same notation as Alg 1-2\n",
        "p_1 = secrets.randbelow(order)\n",
        "p_2 = secrets.randbelow(order)\n",
        "\n",
        "# The two public keys the Prover wants to generate a PoA for\n",
        "P_1 = p_1 * G\n",
        "P_2 = p_2 * G\n",
        "\n",
        "# Instead of an association key, the WSCD outputs a third value z\n",
        "z = p_1 + p_2\n",
        "\n",
        "# The verification is now\n",
        "P_1 + P_2 == z*G"
      ],
      "metadata": {
        "colab": {
          "base_uri": "https://localhost:8080/"
        },
        "id": "3Gq_-5g9G4S8",
        "outputId": "18b57f84-6877-4ac5-838d-d70711aec44f"
      },
      "execution_count": 6,
      "outputs": [
        {
          "output_type": "execute_result",
          "data": {
            "text/plain": [
              "True"
            ]
          },
          "metadata": {},
          "execution_count": 6
        }
      ]
    },
    {
      "cell_type": "markdown",
      "source": [
        "The above approach is extendable to more than two private keys. Given the scalar sum $z = \\sum_{i=0}^n{p_i}$, the corresponding public key sum is: $\\sum_{i=0}^n{P_i} = z \\cdot G$, which serves as a combined PoP and PoA.\n",
        "\n",
        "Since each private key is a random value, their sum is indistinguishable from a randomly chosen scalar from the same group. Afaik, knowledge of $z$ does not leak information about either $p_1$ or $p_2$ without additional information; it is information theoretically secure. If necessary, add a random $r$ to the sum.\n",
        "\n",
        "An attacker with knowlege of $(P_1, P_2, z)$ cannot extract either $p_1$ or $p_2$ from $(P_1, P_2)$ because that would break ECDLP.\n",
        "\n",
        "Seemingly, an exhaustive search is the best approach for the attacker in the case of single-use-keys, which is the same as the attacker has for guessing either $p_1$ or $p_2$ from $P_1$ or $P_2$."
      ],
      "metadata": {
        "id": "ZzlN4ZCwkvR-"
      }
    }
  ]
}
